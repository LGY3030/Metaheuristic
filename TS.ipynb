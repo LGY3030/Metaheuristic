{
 "cells": [
  {
   "cell_type": "code",
   "execution_count": 3,
   "metadata": {},
   "outputs": [
    {
     "data": {
      "text/plain": [
       "'\\nk = 1\\ns = initial solution\\nWHILE the stopping condition is not met DO \\n    Identify N(s). (Neighbourhood set) \\n    Identify T(s,k). (Tabu set) \\n    Identify A(s,k). (Aspirant set) \\n    N(s,k) = {N(s) - T(s,k)} + A(s,k)\\n    Choose the best s’  in  N(s,k)\\n    Memorize s’ if it improves the previous best known solution\\n    s = s’. \\n    k = k + 1\\nEND WHILE\\n'"
      ]
     },
     "execution_count": 3,
     "metadata": {},
     "output_type": "execute_result"
    }
   ],
   "source": [
    "\"\"\"\n",
    "TS algorithm\n",
    "\n",
    "k = 1\n",
    "s = initial solution\n",
    "WHILE the stopping condition is not met DO \n",
    "    Identify N(s). (Neighbourhood set) \n",
    "    Identify T(s,k). (Tabu set) \n",
    "    Identify A(s,k). (Aspirant set) \n",
    "    N(s,k) = {N(s) - T(s,k)} + A(s,k)\n",
    "    Choose the best s’  in  N(s,k)\n",
    "    Memorize s’ if it improves the previous best known solution\n",
    "    s = s’. \n",
    "    k = k + 1\n",
    "END WHILE\n",
    "\"\"\""
   ]
  },
  {
   "cell_type": "code",
   "execution_count": 4,
   "metadata": {},
   "outputs": [],
   "source": [
    "import numpy as np\n",
    "import pandas as pd"
   ]
  },
  {
   "cell_type": "code",
   "execution_count": 5,
   "metadata": {},
   "outputs": [],
   "source": [
    "# 讀取資料\n",
    "def readData():\n",
    "  data = pd.read_csv(\"data.csv\")\n",
    "  return data"
   ]
  },
  {
   "cell_type": "code",
   "execution_count": 23,
   "metadata": {},
   "outputs": [
    {
     "name": "stdout",
     "output_type": "stream",
     "text": [
      "0    1\n",
      "1    2\n",
      "2    3\n",
      "3    4\n",
      "Name: Jobs, dtype: int64\n"
     ]
    },
    {
     "name": "stderr",
     "output_type": "stream",
     "text": [
      "C:\\Users\\admin\\Anaconda3\\lib\\site-packages\\ipykernel_launcher.py:2: DeprecationWarning: \n",
      ".ix is deprecated. Please use\n",
      ".loc for label based indexing or\n",
      ".iloc for positional indexing\n",
      "\n",
      "See the documentation here:\n",
      "http://pandas.pydata.org/pandas-docs/stable/indexing.html#ix-indexer-is-deprecated\n",
      "  \n"
     ]
    }
   ],
   "source": [
    "data=readData()\n",
    "print(data.ix[:,\"Jobs\"])"
   ]
  },
  {
   "cell_type": "code",
   "execution_count": null,
   "metadata": {},
   "outputs": [],
   "source": []
  }
 ],
 "metadata": {
  "kernelspec": {
   "display_name": "Python 3",
   "language": "python",
   "name": "python3"
  },
  "language_info": {
   "codemirror_mode": {
    "name": "ipython",
    "version": 3
   },
   "file_extension": ".py",
   "mimetype": "text/x-python",
   "name": "python",
   "nbconvert_exporter": "python",
   "pygments_lexer": "ipython3",
   "version": "3.7.0"
  }
 },
 "nbformat": 4,
 "nbformat_minor": 2
}
