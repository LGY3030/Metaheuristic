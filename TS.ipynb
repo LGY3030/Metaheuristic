{
 "cells": [
  {
   "cell_type": "code",
   "execution_count": 2,
   "metadata": {},
   "outputs": [
    {
     "data": {
      "text/plain": [
       "'\\nTS algorithm\\n\\nk = 1\\ns = initial solution\\nWHILE the stopping condition is not met DO \\n    Identify N(s). (Neighbourhood set) \\n    Identify T(s,k). (Tabu set) \\n    Identify A(s,k). (Aspirant set) \\n    N(s,k) = {N(s) - T(s,k)} + A(s,k)\\n    Choose the best s’  in  N(s,k)\\n    Memorize s’ if it improves the previous best known solution\\n    s = s’. \\n    k = k + 1\\nEND WHILE\\n'"
      ]
     },
     "execution_count": 2,
     "metadata": {},
     "output_type": "execute_result"
    }
   ],
   "source": [
    "\"\"\"\n",
    "TS algorithm\n",
    "\n",
    "k = 1\n",
    "s = initial solution\n",
    "WHILE the stopping condition is not met DO \n",
    "    Identify N(s). (Neighbourhood set) \n",
    "    Identify T(s,k). (Tabu set) \n",
    "    Identify A(s,k). (Aspirant set) \n",
    "    N(s,k) = {N(s) - T(s,k)} + A(s,k)\n",
    "    Choose the best s’  in  N(s,k)\n",
    "    Memorize s’ if it improves the previous best known solution\n",
    "    s = s’. \n",
    "    k = k + 1\n",
    "END WHILE\n",
    "\"\"\""
   ]
  },
  {
   "cell_type": "code",
   "execution_count": 3,
   "metadata": {},
   "outputs": [],
   "source": [
    "import numpy as np\n",
    "import pandas as pd\n",
    "import random"
   ]
  },
  {
   "cell_type": "code",
   "execution_count": 4,
   "metadata": {},
   "outputs": [],
   "source": [
    "# 讀取資料\n",
    "def readData():\n",
    "  data = pd.read_csv(\"data.csv\")\n",
    "  return data"
   ]
  },
  {
   "cell_type": "code",
   "execution_count": 5,
   "metadata": {},
   "outputs": [
    {
     "name": "stdout",
     "output_type": "stream",
     "text": [
      "4\n"
     ]
    }
   ],
   "source": [
    "data=readData()\n",
    "print(data.loc[:,\"Jobs\"].size)"
   ]
  },
  {
   "cell_type": "code",
   "execution_count": 6,
   "metadata": {},
   "outputs": [],
   "source": [
    "def get(a):\n",
    "    total=0\n",
    "    b=0\n",
    "    for i in a:\n",
    "        total+=data.loc[i-1,\"Weights\"]*(np.max(data.loc[i-1,\"Process Time\"]+b-data.loc[i-1,\"Due Date\"],0))\n",
    "        b+=data.loc[i-1,\"Process Time\"]\n",
    "    return total"
   ]
  },
  {
   "cell_type": "code",
   "execution_count": 32,
   "metadata": {},
   "outputs": [
    {
     "name": "stdout",
     "output_type": "stream",
     "text": [
      "[3, 1, 2, 4]\n"
     ]
    }
   ],
   "source": [
    "q= [x for x in range(1,data.loc[:,\"Jobs\"].size+1)]\n",
    "random.shuffle(q)\n",
    "t=q[:]\n",
    "print(t)"
   ]
  },
  {
   "cell_type": "code",
   "execution_count": 33,
   "metadata": {},
   "outputs": [
    {
     "name": "stdout",
     "output_type": "stream",
     "text": [
      "662\n",
      "[[1, 3, 2, 4], [3, 2, 1, 4], [3, 1, 4, 2]]\n",
      "[778, 970, 878]\n",
      "[[3, 1]]\n"
     ]
    }
   ],
   "source": [
    "solution=get(t)\n",
    "a=[]\n",
    "b=[]\n",
    "tabu=[]\n",
    "remove=[]\n",
    "for i in range(data[\"Jobs\"].size-1):\n",
    "    tmp=t[i]\n",
    "    t[i]=t[i+1]\n",
    "    t[i+1]=tmp\n",
    "    a.append(t)\n",
    "    t=q[:]\n",
    "for i in a:\n",
    "    b.append(get(i))\n",
    "for ta in tabu:\n",
    "    for i in a:\n",
    "        for j in range(0,4):\n",
    "            if i[j]==ta[0] and i[j+1]==ta[1]:\n",
    "                remove.append(a.index(i))\n",
    "for i in remove:\n",
    "    a.remove(a[index])\n",
    "    b.remove(b[index])\n",
    "print(max)\n",
    "print(a)\n",
    "print(b)\n",
    "indexnum=min(b)\n",
    "index=b.index(indexnum)\n",
    "if len(tabu)==2:\n",
    "    tabu.remove(tabu[1])\n",
    "    tabu.append([t[index],t[index+1]])\n",
    "else:\n",
    "    tabu.append([t[index],t[index+1]])\n",
    "print(tabu)\n",
    "t=a[index]"
   ]
  },
  {
   "cell_type": "code",
   "execution_count": null,
   "metadata": {},
   "outputs": [],
   "source": []
  },
  {
   "cell_type": "code",
   "execution_count": null,
   "metadata": {},
   "outputs": [],
   "source": []
  }
 ],
 "metadata": {
  "kernelspec": {
   "display_name": "Python 3",
   "language": "python",
   "name": "python3"
  },
  "language_info": {
   "codemirror_mode": {
    "name": "ipython",
    "version": 3
   },
   "file_extension": ".py",
   "mimetype": "text/x-python",
   "name": "python",
   "nbconvert_exporter": "python",
   "pygments_lexer": "ipython3",
   "version": "3.7.0"
  }
 },
 "nbformat": 4,
 "nbformat_minor": 2
}
