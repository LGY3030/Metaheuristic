{
 "cells": [
  {
   "cell_type": "code",
   "execution_count": 3,
   "metadata": {},
   "outputs": [
    {
     "data": {
      "text/plain": [
       "'\\nk = 1\\ns = initial solution\\nWHILE the stopping condition is not met DO \\n    Identify N(s). (Neighbourhood set) \\n    Identify T(s,k). (Tabu set) \\n    Identify A(s,k). (Aspirant set) \\n    N(s,k) = {N(s) - T(s,k)} + A(s,k)\\n    Choose the best s’  in  N(s,k)\\n    Memorize s’ if it improves the previous best known solution\\n    s = s’. \\n    k = k + 1\\nEND WHILE\\n'"
      ]
     },
     "execution_count": 3,
     "metadata": {},
     "output_type": "execute_result"
    }
   ],
   "source": [
    "\"\"\"\n",
    "k = 1\n",
    "s = initial solution\n",
    "WHILE the stopping condition is not met DO \n",
    "    Identify N(s). (Neighbourhood set) \n",
    "    Identify T(s,k). (Tabu set) \n",
    "    Identify A(s,k). (Aspirant set) \n",
    "    N(s,k) = {N(s) - T(s,k)} + A(s,k)\n",
    "    Choose the best s’  in  N(s,k)\n",
    "    Memorize s’ if it improves the previous best known solution\n",
    "    s = s’. \n",
    "    k = k + 1\n",
    "END WHILE\n",
    "\"\"\""
   ]
  },
  {
   "cell_type": "code",
   "execution_count": null,
   "metadata": {},
   "outputs": [],
   "source": []
  }
 ],
 "metadata": {
  "kernelspec": {
   "display_name": "Python 3",
   "language": "python",
   "name": "python3"
  },
  "language_info": {
   "codemirror_mode": {
    "name": "ipython",
    "version": 3
   },
   "file_extension": ".py",
   "mimetype": "text/x-python",
   "name": "python",
   "nbconvert_exporter": "python",
   "pygments_lexer": "ipython3",
   "version": "3.7.0"
  }
 },
 "nbformat": 4,
 "nbformat_minor": 2
}
