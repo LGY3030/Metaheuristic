{
 "cells": [
  {
   "cell_type": "code",
   "execution_count": 14,
   "metadata": {},
   "outputs": [
    {
     "name": "stdout",
     "output_type": "stream",
     "text": [
      "n:200\n",
      "tabu size:2\n",
      "5453\n",
      "[20, 15, 11, 14, 12, 17, 16, 18, 8, 5, 19, 6, 10, 3, 1, 9, 7, 2, 13, 4]\n"
     ]
    }
   ],
   "source": [
    "import numpy as np\n",
    "import pandas as pd\n",
    "import random\n",
    "# 讀取資料\n",
    "def readData():\n",
    "  data = pd.read_csv(\"data_1.csv\")\n",
    "  return data\n",
    "\n",
    "def get(a):\n",
    "    total=0\n",
    "    b=0\n",
    "    for i in a:\n",
    "        total+=data.loc[i-1,\"Weights\"]*(np.max(data.loc[i-1,\"Process Time\"]+b-data.loc[i-1,\"Due Date\"],0))\n",
    "        b+=data.loc[i-1,\"Process Time\"]\n",
    "    return total\n",
    "\n",
    "data=readData()\n",
    "q= [x for x in range(1,data.loc[:,\"Jobs\"].size+1)]\n",
    "random.shuffle(q)\n",
    "t=q[:]\n",
    "solution_value=get(t)\n",
    "solution_list=t[:]\n",
    "a=[]\n",
    "b=[]\n",
    "tabu=[]\n",
    "remove=[]\n",
    "time=int(input(\"n:\"))\n",
    "tabu_size=int(input(\"tabu size:\"))\n",
    "for n in range(time):\n",
    "    for i in range(data[\"Jobs\"].size-1):\n",
    "        tmp=t[i]\n",
    "        t[i]=t[i+1]\n",
    "        t[i+1]=tmp\n",
    "        a.append(t)\n",
    "        t=q[:]\n",
    "    for i in a:\n",
    "        b.append(get(i))\n",
    "    for ta in tabu:\n",
    "        for i in a:\n",
    "            for j in range(0,3):\n",
    "                if i[j]==ta[0] and i[j+1]==ta[1]:\n",
    "                    remove.append(a.index(i))\n",
    "    if len(a)==0:\n",
    "        break\n",
    "    for i in remove:\n",
    "        a.remove(a[index])\n",
    "        b.remove(b[index])\n",
    "    if len(a)==0:\n",
    "        break\n",
    "    indexnum=min(b)\n",
    "    index=b.index(indexnum)\n",
    "    if indexnum<solution_value:\n",
    "        solution_value=indexnum\n",
    "        solution_list=a[index][:]\n",
    "    if len(tabu)==tabu_size:\n",
    "        tabu.remove(tabu[tabu_size-1])\n",
    "        tabu.append([t[index],t[index+1]])\n",
    "    else:\n",
    "        tabu.append([t[index],t[index+1]])\n",
    "    t=a[index][:]\n",
    "    a=[]\n",
    "    b=[]\n",
    "    remove=[]\n",
    "print(solution_value)\n",
    "print(solution_list)"
   ]
  },
  {
   "cell_type": "code",
   "execution_count": 12,
   "metadata": {},
   "outputs": [
    {
     "name": "stdout",
     "output_type": "stream",
     "text": [
      "632\n",
      "480\n",
      "778\n",
      "706\n",
      "408\n",
      "554\n",
      "652\n",
      "500\n",
      "824\n",
      "760\n",
      "436\n",
      "608\n",
      "950\n",
      "878\n",
      "970\n",
      "906\n",
      "834\n",
      "814\n",
      "344\n",
      "490\n",
      "364\n",
      "536\n",
      "662\n",
      "682\n"
     ]
    }
   ],
   "source": [
    "print(get([1,2,3,4]))\n",
    "print(get([1,2,4,3]))\n",
    "print(get([1,3,2,4]))\n",
    "print(get([1,3,4,2]))\n",
    "print(get([1,4,2,3]))\n",
    "print(get([1,4,3,2]))\n",
    "print(get([2,1,3,4]))\n",
    "print(get([2,1,4,3]))\n",
    "print(get([2,3,1,4]))\n",
    "print(get([2,3,4,1]))\n",
    "print(get([2,4,1,3]))\n",
    "print(get([2,4,3,1]))\n",
    "print(get([3,1,2,4]))\n",
    "print(get([3,1,4,2]))\n",
    "print(get([3,2,1,4]))\n",
    "print(get([3,2,4,1]))\n",
    "print(get([3,4,2,1]))\n",
    "print(get([3,4,1,2]))\n",
    "print(get([4,1,2,3]))\n",
    "print(get([4,1,3,2]))\n",
    "print(get([4,2,1,3]))\n",
    "print(get([4,2,3,1]))\n",
    "print(get([4,3,1,2]))\n",
    "print(get([4,3,2,1]))"
   ]
  },
  {
   "cell_type": "code",
   "execution_count": null,
   "metadata": {},
   "outputs": [],
   "source": []
  }
 ],
 "metadata": {
  "kernelspec": {
   "display_name": "Python 3",
   "language": "python",
   "name": "python3"
  },
  "language_info": {
   "codemirror_mode": {
    "name": "ipython",
    "version": 3
   },
   "file_extension": ".py",
   "mimetype": "text/x-python",
   "name": "python",
   "nbconvert_exporter": "python",
   "pygments_lexer": "ipython3",
   "version": "3.7.0"
  }
 },
 "nbformat": 4,
 "nbformat_minor": 2
}
